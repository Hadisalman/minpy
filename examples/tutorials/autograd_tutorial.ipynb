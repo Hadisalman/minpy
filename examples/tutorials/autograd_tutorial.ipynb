{
 "cells": [
  {
   "cell_type": "markdown",
   "metadata": {},
   "source": [
    "# Autograd in MinPy\n",
    "\n",
    "This tutorial is also available in step-by-step notebook version on [github](https://github.com/dmlc/minpy/blob/master/examples/tutorials/autograd_tutorial.ipynb). Please try it out!\n",
    "\n",
    "Writing backprop is often the most tedious and error prone part of a deep net implementation. In fact, the feature of autograd has wide applications and goes beyond the domain of deep learning. MinPy's autograd applies to any NumPy code that is imperatively programmed. Moreover, it is seemlessly integrated with MXNet's symbolic program (see [for example](../tutorial/complete_sol_opt_guide/complete.rst)). By using MXNet's execution engine, all operations can be executed in GPU if available.\n",
    "\n",
    "## A Close Look at Autograd System\n",
    "MinPy's implementation of autograd is insprired from the [Autograd project](https://github.com/HIPS/autograd). It computes a gradient function for any single-output function. For example, we define a simple function `foo`:"
   ]
  },
  {
   "cell_type": "code",
   "execution_count": 1,
   "metadata": {
    "collapsed": false
   },
   "outputs": [
    {
     "data": {
      "text/plain": [
       "16"
      ]
     },
     "execution_count": 1,
     "metadata": {},
     "output_type": "execute_result"
    }
   ],
   "source": [
    "def foo(x):\n",
    "    return x**2\n",
    "\n",
    "foo(4)"
   ]
  },
  {
   "cell_type": "markdown",
   "metadata": {},
   "source": [
    "Now we want to get its derivative. To do so, simply import `grad` from `minpy.core`."
   ]
  },
  {
   "cell_type": "code",
   "execution_count": 2,
   "metadata": {
    "collapsed": false
   },
   "outputs": [],
   "source": [
    "import minpy.numpy as np  # currently need import this at the same time\n",
    "from minpy.core import grad\n",
    "\n",
    "d_foo = grad(foo)"
   ]
  },
  {
   "cell_type": "code",
   "execution_count": 3,
   "metadata": {
    "collapsed": false
   },
   "outputs": [
    {
     "data": {
      "text/plain": [
       "8.0"
      ]
     },
     "execution_count": 3,
     "metadata": {},
     "output_type": "execute_result"
    }
   ],
   "source": [
    "d_foo(4)"
   ]
  },
  {
   "cell_type": "markdown",
   "metadata": {},
   "source": [
    "You can also differentiate as many times as you want:"
   ]
  },
  {
   "cell_type": "code",
   "execution_count": 4,
   "metadata": {
    "collapsed": false
   },
   "outputs": [],
   "source": [
    "d_2_foo = grad(d_foo)\n",
    "d_3_foo = grad(d_2_foo)"
   ]
  },
  {
   "cell_type": "markdown",
   "metadata": {},
   "source": [
    "Now import `matplotlib` to visualize the derivatives."
   ]
  },
  {
   "cell_type": "code",
   "execution_count": 5,
   "metadata": {
    "collapsed": false
   },
   "outputs": [
    {
     "data": {
      "image/png": "[encoded data removed]",
      "text/plain": [
       "<matplotlib.figure.Figure at 0x7fafeeccb450>"
      ]
     },
     "metadata": {},
     "output_type": "display_data"
    }
   ],
   "source": [
    "import matplotlib.pyplot as plt\n",
    "%matplotlib inline\n",
    "plt.rcParams['figure.figsize'] = (10.0, 8.0) # set default size of plots\n",
    "plt.rcParams['image.interpolation'] = 'nearest'\n",
    "plt.rcParams['image.cmap'] = 'gray'\n",
    "\n",
    "x = np.linspace(-10, 10, 200)\n",
    "# plt.plot only takes ndarray as input. Explicitly convert MinPy Array into ndarray.\n",
    "plt.plot(x.asnumpy(), foo(x).asnumpy(),\n",
    "         x.asnumpy(), d_foo(x).asnumpy(),\n",
    "         x.asnumpy(), d_2_foo(x).asnumpy(),\n",
    "         x.asnumpy(), d_3_foo(x).asnumpy())\n",
    "plt.show()"
   ]
  },
  {
   "cell_type": "markdown",
   "metadata": {},
   "source": [
    "Just as you expected."
   ]
  },
  {
   "cell_type": "markdown",
   "metadata": {},
   "source": [
    "Autograd also differentiates vector inputs. For example:"
   ]
  },
  {
   "cell_type": "code",
   "execution_count": 6,
   "metadata": {
    "collapsed": false
   },
   "outputs": [
    {
     "data": {
      "text/plain": [
       "[ 2.  4.  6.  8.]"
      ]
     },
     "execution_count": 6,
     "metadata": {},
     "output_type": "execute_result"
    }
   ],
   "source": [
    "x = np.array([1, 2, 3, 4])\n",
    "d_foo(x)"
   ]
  },
  {
   "cell_type": "markdown",
   "metadata": {},
   "source": [
    "## Gradient of Multivariate Functions\n",
    "As for multivariate functions, you also need to specify arguments for derivative calculation. Only the specified argument will be calcualted. Just pass the position of the target argument (of a list of arguments) in `grad`. For example:"
   ]
  },
  {
   "cell_type": "code",
   "execution_count": 7,
   "metadata": {
    "collapsed": true
   },
   "outputs": [],
   "source": [
    "def bar(a, b, c):\n",
    "    return 3*a + b**2 - c"
   ]
  },
  {
   "cell_type": "markdown",
   "metadata": {},
   "source": [
    "We get their gradients by specifying their argument position."
   ]
  },
  {
   "cell_type": "code",
   "execution_count": 8,
   "metadata": {
    "collapsed": false
   },
   "outputs": [
    {
     "name": "stdout",
     "output_type": "stream",
     "text": [
      "[3.0, 6.0, -1.0]\n"
     ]
    }
   ],
   "source": [
    "gradient = grad(bar, [0, 1, 2])\n",
    "grad_array = gradient(2, 3, 4)\n",
    "print grad_array"
   ]
  },
  {
   "cell_type": "markdown",
   "metadata": {},
   "source": [
    "`grad_array[0]`, `grad_array[1]`, and `grad_array[2]` are gradients of argument `a`, `b`, and `c`.\n",
    "\n",
    "The following section will introduce a more comprehensive example on matrix calculus."
   ]
  },
  {
   "cell_type": "markdown",
   "metadata": {},
   "source": [
    "## Autograd for Loss Function\n",
    "\n",
    "Since in world of machine learning we optimize a scalar loss, Autograd is particular useful to obtain the gradient of input parameters for next updates. For example, we define an affine layer, relu layer, and a softmax loss. Before dive into this section, please see [Logistic regression tutorial](../get-started/logistic_regression.rst) first for a simpler application of Autograd."
   ]
  },
  {
   "cell_type": "code",
   "execution_count": 9,
   "metadata": {
    "collapsed": true
   },
   "outputs": [],
   "source": [
    "def affine(x, w, b):\n",
    "    \"\"\"\n",
    "    Computes the forward pass for an affine (fully-connected) layer.\n",
    "    The input x has shape (N, d_1, ..., d_k) and contains a minibatch of N\n",
    "    examples, where each example x[i] has shape (d_1, ..., d_k). We will\n",
    "    reshape each input into a vector of dimension D = d_1 * ... * d_k, and\n",
    "    then transform it to an output vector of dimension M.\n",
    "    Inputs:\n",
    "    - x: A numpy array containing input data, of shape (N, d_1, ..., d_k)\n",
    "    - w: A numpy array of weights, of shape (D, M)\n",
    "    - b: A numpy array of biases, of shape (M,)\n",
    "    Returns a tuple of:\n",
    "    - out: output, of shape (N, M)\n",
    "    \"\"\"\n",
    "    out = np.dot(x, w) + b\n",
    "    return out\n",
    "\n",
    "def relu(x):\n",
    "    \"\"\"\n",
    "    Computes the forward pass for a layer of rectified linear units (ReLUs).\n",
    "    Input:\n",
    "    - x: Inputs, of any shape\n",
    "    Returns a tuple of:\n",
    "    - out: Output, of the same shape as x\n",
    "    \"\"\"\n",
    "    out = np.maximum(0, x)\n",
    "    return out\n",
    "\n",
    "def softmax_loss(x, y):\n",
    "    \"\"\"\n",
    "    Computes the loss for softmax classification.\n",
    "    Inputs:\n",
    "    - x: Input data, of shape (N, C) where x[i, j] is the score for the jth class\n",
    "    for the ith input.\n",
    "    - y: Vector of labels, of shape (N,) where y[i] is the label for x[i] and\n",
    "    0 <= y[i] < C\n",
    "    Returns a tuple of:\n",
    "    - loss: Scalar giving the loss\n",
    "    \"\"\"\n",
    "    N = x.shape[0]\n",
    "    probs = np.exp(x - np.max(x, axis=1, keepdims=True))\n",
    "    probs = probs / np.sum(probs, axis=1, keepdims=True)\n",
    "    loss = -np.sum(np.log(probs) * y) / N\n",
    "    return loss"
   ]
  },
  {
   "cell_type": "markdown",
   "metadata": {},
   "source": [
    "Then we use these layers to define a single layer fully-connected network, with a softmax output."
   ]
  },
  {
   "cell_type": "code",
   "execution_count": 10,
   "metadata": {
    "collapsed": false
   },
   "outputs": [],
   "source": [
    "class SimpleNet(object):\n",
    "    def __init__(self, input_size=100, num_class=3):\n",
    "        # Define model parameters.\n",
    "        self.params = {}\n",
    "        self.params['w'] = np.random.randn(input_size, num_class) * 0.01\n",
    "        self.params['b'] = np.zeros((1, 1))  # don't use int(1) (int cannot track gradient info)\n",
    "\n",
    "    def forward(self, X):\n",
    "        # First affine layer (fully-connected layer).\n",
    "        y1 = affine(X, self.params['w'], self.params['b'])\n",
    "        # ReLU activation.\n",
    "        y2 = relu(y1)\n",
    "        return y2\n",
    "\n",
    "    def loss(self, X, y):\n",
    "        # Compute softmax loss between the output and the label.\n",
    "        return softmax_loss(self.forward(X), y)"
   ]
  },
  {
   "cell_type": "markdown",
   "metadata": {},
   "source": [
    "We define some hyperparameters."
   ]
  },
  {
   "cell_type": "code",
   "execution_count": 11,
   "metadata": {
    "collapsed": false
   },
   "outputs": [],
   "source": [
    "batch_size = 100\n",
    "input_size = 50\n",
    "num_class = 3"
   ]
  },
  {
   "cell_type": "markdown",
   "metadata": {},
   "source": [
    "Here is the net and data."
   ]
  },
  {
   "cell_type": "code",
   "execution_count": 12,
   "metadata": {
    "collapsed": true
   },
   "outputs": [],
   "source": [
    "net = SimpleNet(input_size, num_class)\n",
    "x = np.random.randn(batch_size, hidden_size)\n",
    "idx = np.random.randint(0, 3, size=batch_size)\n",
    "y = np.zeros((batch_size, num_class))\n",
    "y[np.arange(batch_size), idx] = 1"
   ]
  },
  {
   "cell_type": "markdown",
   "metadata": {},
   "source": [
    "Now get gradients."
   ]
  },
  {
   "cell_type": "code",
   "execution_count": 13,
   "metadata": {
    "collapsed": false
   },
   "outputs": [],
   "source": [
    "gradient = grad(net.loss)"
   ]
  },
  {
   "cell_type": "markdown",
   "metadata": {},
   "source": [
    "Then we can get gradient by simply call `gradient(X, y)`."
   ]
  },
  {
   "cell_type": "code",
   "execution_count": 14,
   "metadata": {
    "collapsed": false
   },
   "outputs": [],
   "source": [
    "d_x = gradient(x, y)"
   ]
  },
  {
   "cell_type": "markdown",
   "metadata": {},
   "source": [
    "Ok, Ok, I know you are not interested in `x`'s gradient. I will show you how to get the gradient of the parameters. First, you need to define a function with the parameters as the arguments for Autograd to process. Autograd can only track the gradients **in the parameter list**."
   ]
  },
  {
   "cell_type": "code",
   "execution_count": 15,
   "metadata": {
    "collapsed": true
   },
   "outputs": [],
   "source": [
    "def loss_func(w, b, X, y):\n",
    "    net.params['w'] = w\n",
    "    net.params['b'] = b\n",
    "    return net.loss(X, y)"
   ]
  },
  {
   "cell_type": "markdown",
   "metadata": {},
   "source": [
    "Yes, you just need to provide an entry in the new function's parameter list for `w` and `b` and that's it! Now let's try to derive its gradient."
   ]
  },
  {
   "cell_type": "code",
   "execution_count": 16,
   "metadata": {
    "collapsed": true
   },
   "outputs": [],
   "source": [
    "# 0, 1 are the positions of w, b in the paramter list.\n",
    "gradient = grad(loss_func, [0, 1])"
   ]
  },
  {
   "cell_type": "markdown",
   "metadata": {},
   "source": [
    "Note that you need to specify a list for the parameters that you want their gradients.\n",
    "\n",
    "Now we have"
   ]
  },
  {
   "cell_type": "code",
   "execution_count": 17,
   "metadata": {
    "collapsed": false
   },
   "outputs": [],
   "source": [
    "d_w, d_b = gradient(net.params['w'], net.params['b'], x, y)"
   ]
  },
  {
   "cell_type": "markdown",
   "metadata": {},
   "source": [
    "With `d_w` and `d_b` in hand, training `net` is just a piece of cake."
   ]
  },
  {
   "cell_type": "markdown",
   "metadata": {},
   "source": [
    "## Less Calculation: Get Forward Pass and Backward Pass Simultaneously\n",
    "Since gradient calculation in MinPy needs forward pass information, if you need the forward result and the gradient calculation at the same time, please use `grad_and_loss` to get them simultaneously. In fact, `grad` is just a wrapper of `grad_and_loss`. For example, we can get"
   ]
  },
  {
   "cell_type": "code",
   "execution_count": 18,
   "metadata": {
    "collapsed": false
   },
   "outputs": [],
   "source": [
    "from minpy.core import grad_and_loss\n",
    "forward_backward = grad_and_loss(bar, [0, 1, 2])\n",
    "grad_array, result = forward_backward(2, 3, 4)"
   ]
  },
  {
   "cell_type": "markdown",
   "metadata": {},
   "source": [
    "`grad_array` and `result` are result of gradient and forward pass respectively."
   ]
  }
 ],
 "metadata": {
  "kernelspec": {
   "display_name": "Python [Root]",
   "language": "python",
   "name": "Python [Root]"
  },
  "language_info": {
   "codemirror_mode": {
    "name": "ipython",
    "version": 2
   },
   "file_extension": ".py",
   "mimetype": "text/x-python",
   "name": "python",
   "nbconvert_exporter": "python",
   "pygments_lexer": "ipython2",
   "version": "2.7.12"
  }
 },
 "nbformat": 4,
 "nbformat_minor": 0
}
